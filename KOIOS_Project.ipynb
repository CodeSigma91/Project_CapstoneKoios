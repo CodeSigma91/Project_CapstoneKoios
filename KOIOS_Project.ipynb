{
  "nbformat": 4,
  "nbformat_minor": 0,
  "metadata": {
    "colab": {
      "name": "KOIOS_Project.ipynb",
      "version": "0.3.2",
      "provenance": [],
      "collapsed_sections": []
    },
    "language_info": {
      "codemirror_mode": {
        "name": "ipython",
        "version": 3
      },
      "file_extension": ".py",
      "mimetype": "text/x-python",
      "name": "python",
      "nbconvert_exporter": "python",
      "pygments_lexer": "ipython3",
      "version": "3.6.5"
    },
    "kernelspec": {
      "name": "python3",
      "display_name": "Python 3"
    },
    "accelerator": "GPU"
  },
  "cells": [
    {
      "cell_type": "markdown",
      "metadata": {
        "colab_type": "text",
        "id": "Nl0GwMq5E4e2"
      },
      "source": [
        "# Image Processing with Keras - Capstone Project (Koios Medical)"
      ]
    },
    {
      "cell_type": "markdown",
      "metadata": {
        "colab_type": "text",
        "id": "PPtuBGKJz8-y"
      },
      "source": [
        "by Sabbir Mohammed<br><br>*Project Description: Deep Learning Project focused on object localization of potential tumors and legions on thyroid ultrasound images.*<br><br>*This notebook utilizes the Keras framework, running on tensor flow to execute a Convolution Neural Network to train a model. The pre-trained weights used to initialize this model is imported from the Xception model hosted under Keras Applications (link below)*"
      ]
    },
    {
      "cell_type": "markdown",
      "metadata": {
        "colab_type": "text",
        "id": "h6JO0iAyE4fA"
      },
      "source": [
        "- - -"
      ]
    },
    {
      "cell_type": "markdown",
      "metadata": {
        "id": "uxj3GZe2DVU_",
        "colab_type": "text"
      },
      "source": [
        "<p><a name=\"home\"></a></p>\n",
        "### SECTIONS:<br>\n",
        "-  <a href=\"#colab\">  Setting up for Google Colab                   </a><br>\n",
        "1. <a href=\"#import\"> 1. Importing Data and Initializing            </a><br>\n",
        "2. <a href=\"#pre\">    2. Keras Preprocessing                        </a><br>\n",
        "3. <a href=\"#algo\">   3. Setting up Architecture: Importing Xception</a><br>\n",
        "4. <a href=\"#train\">  4. Training and Fitting Model                 </a><br>\n",
        "5. <a href=\"#test\">   5. Evaluating Model                           </a><br>\n",
        "6. <a href=\"#output\"> 6. Final Results of Prediction                </a><br>"
      ]
    },
    {
      "cell_type": "markdown",
      "metadata": {
        "id": "Zv6vH9Q7DVVB",
        "colab_type": "text"
      },
      "source": [
        "- - -"
      ]
    },
    {
      "cell_type": "markdown",
      "metadata": {
        "colab_type": "text",
        "id": "KL3lXEEYV5D8"
      },
      "source": [
        "<p><a name=\"colab\"></a></p>\n",
        "### SETTING UP FOR GOOGLE COLAB:\n",
        "<a href=\"#home\">BACK TO THE TOP</a>"
      ]
    },
    {
      "cell_type": "markdown",
      "metadata": {
        "id": "MuMqo1WIDVVL",
        "colab_type": "text"
      },
      "source": [
        "This notebook was run on the Google Colab platform to make use of the GPU resources available there."
      ]
    },
    {
      "cell_type": "code",
      "metadata": {
        "colab_type": "code",
        "id": "eKN2Dd1NTLzQ",
        "outputId": "4ac52574-d0d8-4554-94e2-b84047843534",
        "colab": {
          "base_uri": "https://localhost:8080/",
          "height": 35
        }
      },
      "source": [
        "# Mounting Google Drive directory and files\n",
        "from google.colab import drive\n",
        "drive.mount('/content/drive/')"
      ],
      "execution_count": 0,
      "outputs": [
        {
          "output_type": "stream",
          "text": [
            "Drive already mounted at /content/drive/; to attempt to forcibly remount, call drive.mount(\"/content/drive/\", force_remount=True).\n"
          ],
          "name": "stdout"
        }
      ]
    },
    {
      "cell_type": "code",
      "metadata": {
        "colab_type": "code",
        "id": "EnNFW9WeVVpe",
        "outputId": "62c5320e-1a52-4b67-e1e9-a2c5816a8ad5",
        "colab": {
          "base_uri": "https://localhost:8080/",
          "height": 35
        }
      },
      "source": [
        "# Changing working directory to match setup in Google Drive\n",
        "cd '/content/drive/My Drive/ProjectCapstone'"
      ],
      "execution_count": 0,
      "outputs": [
        {
          "output_type": "stream",
          "text": [
            "/content/drive/My Drive/ProjectCapstone\n"
          ],
          "name": "stdout"
        }
      ]
    },
    {
      "cell_type": "code",
      "metadata": {
        "colab_type": "code",
        "id": "Zz-BajgPVkCT",
        "outputId": "5a45cc50-2251-457b-b562-658cd5d65dbe",
        "colab": {
          "base_uri": "https://localhost:8080/",
          "height": 35
        }
      },
      "source": [
        "# Confirming new working directory\n",
        "pwd"
      ],
      "execution_count": 0,
      "outputs": [
        {
          "output_type": "execute_result",
          "data": {
            "text/plain": [
              "'/content/drive/My Drive/ProjectCapstone'"
            ]
          },
          "metadata": {
            "tags": []
          },
          "execution_count": 3
        }
      ]
    },
    {
      "cell_type": "code",
      "metadata": {
        "colab_type": "code",
        "id": "7ZlTck8UYX_8",
        "outputId": "22a88ac4-9e64-4944-943c-d6052a2476ca",
        "colab": {
          "base_uri": "https://localhost:8080/",
          "height": 35
        }
      },
      "source": [
        "# Checking GPU connection\n",
        "import tensorflow as tf\n",
        "device_name = tf.test.gpu_device_name()\n",
        "if device_name != '/device:GPU:0':\n",
        "  raise SystemError('GPU device not found')\n",
        "print('Found GPU at: {}'.format(device_name))"
      ],
      "execution_count": 0,
      "outputs": [
        {
          "output_type": "stream",
          "text": [
            "Found GPU at: /device:GPU:0\n"
          ],
          "name": "stdout"
        }
      ]
    },
    {
      "cell_type": "markdown",
      "metadata": {
        "id": "odFhJUz4cOfo",
        "colab_type": "text"
      },
      "source": [
        "- - -"
      ]
    },
    {
      "cell_type": "markdown",
      "metadata": {
        "colab_type": "text",
        "id": "WEk_FjOaE4fE"
      },
      "source": [
        "<p><a name=\"import\"></a></p>\n",
        "### 1. IMPORTING DATA AND INITIALIZING:\n",
        "<a href=\"#home\">BACK TO THE TOP</a>"
      ]
    },
    {
      "cell_type": "markdown",
      "metadata": {
        "colab_type": "text",
        "id": "Bnh8T_hpE4fM"
      },
      "source": [
        "**a) Initializing libraries and functions**"
      ]
    },
    {
      "cell_type": "code",
      "metadata": {
        "colab_type": "code",
        "id": "Y8Y_v6xKE4fP",
        "colab": {}
      },
      "source": [
        "import pandas             as pd\n",
        "import numpy              as np\n",
        "import matplotlib.pyplot  as plt\n",
        "import tensorflow         as tf\n",
        "import tf_iou             as tfiou    # customized functions in the directory\n",
        "import calculate_iou      as calc_iou # customized functions in the directory\n",
        "import matplotlib.pyplot  as plt\n",
        "import matplotlib.image   as mpimg\n",
        "import matplotlib.patches as patches\n",
        "\n",
        "from PIL import Image"
      ],
      "execution_count": 0,
      "outputs": []
    },
    {
      "cell_type": "markdown",
      "metadata": {
        "colab_type": "text",
        "id": "ehzxQD1nE4ff"
      },
      "source": [
        "**b) Loading CSV(s)**"
      ]
    },
    {
      "cell_type": "code",
      "metadata": {
        "colab_type": "code",
        "id": "Sl7nS3lXE4fk",
        "colab": {}
      },
      "source": [
        "train = pd.read_csv('./cimalab/dataframe/train.csv')\n",
        "train = train.drop('Unnamed: 0', axis=1)"
      ],
      "execution_count": 0,
      "outputs": []
    },
    {
      "cell_type": "code",
      "metadata": {
        "colab_type": "code",
        "id": "D9Stlr_CE4f1",
        "colab": {}
      },
      "source": [
        "validation = pd.read_csv('./cimalab/dataframe/validation.csv')\n",
        "validation = validation.drop('Unnamed: 0', axis=1)"
      ],
      "execution_count": 0,
      "outputs": []
    },
    {
      "cell_type": "code",
      "metadata": {
        "colab_type": "code",
        "id": "2RQFzcV6E4f-",
        "colab": {}
      },
      "source": [
        "test = pd.read_csv('./cimalab/dataframe/test.csv')\n",
        "test = test.drop('Unnamed: 0', axis=1)"
      ],
      "execution_count": 0,
      "outputs": []
    },
    {
      "cell_type": "code",
      "metadata": {
        "colab_type": "code",
        "id": "7aA5d98LE4gG",
        "outputId": "8e68a5db-440f-478e-8a49-7cc73c12c959",
        "colab": {
          "base_uri": "https://localhost:8080/",
          "height": 112
        }
      },
      "source": [
        "# SANITY CHECK\n",
        "train.head(2)"
      ],
      "execution_count": 0,
      "outputs": [
        {
          "output_type": "execute_result",
          "data": {
            "text/html": [
              "<div>\n",
              "<style scoped>\n",
              "    .dataframe tbody tr th:only-of-type {\n",
              "        vertical-align: middle;\n",
              "    }\n",
              "\n",
              "    .dataframe tbody tr th {\n",
              "        vertical-align: top;\n",
              "    }\n",
              "\n",
              "    .dataframe thead th {\n",
              "        text-align: right;\n",
              "    }\n",
              "</style>\n",
              "<table border=\"1\" class=\"dataframe\">\n",
              "  <thead>\n",
              "    <tr style=\"text-align: right;\">\n",
              "      <th></th>\n",
              "      <th>image_id</th>\n",
              "      <th>x1</th>\n",
              "      <th>y1</th>\n",
              "      <th>x2</th>\n",
              "      <th>y2</th>\n",
              "      <th>filename</th>\n",
              "    </tr>\n",
              "  </thead>\n",
              "  <tbody>\n",
              "    <tr>\n",
              "      <th>0</th>\n",
              "      <td>146</td>\n",
              "      <td>311.0</td>\n",
              "      <td>77.0</td>\n",
              "      <td>373.0</td>\n",
              "      <td>126.0</td>\n",
              "      <td>./cimalab/thyroid/106_2.jpg</td>\n",
              "    </tr>\n",
              "    <tr>\n",
              "      <th>1</th>\n",
              "      <td>147</td>\n",
              "      <td>258.0</td>\n",
              "      <td>72.0</td>\n",
              "      <td>328.0</td>\n",
              "      <td>123.0</td>\n",
              "      <td>./cimalab/thyroid/106_3.jpg</td>\n",
              "    </tr>\n",
              "  </tbody>\n",
              "</table>\n",
              "</div>"
            ],
            "text/plain": [
              "  image_id     x1    y1     x2     y2                     filename\n",
              "0      146  311.0  77.0  373.0  126.0  ./cimalab/thyroid/106_2.jpg\n",
              "1      147  258.0  72.0  328.0  123.0  ./cimalab/thyroid/106_3.jpg"
            ]
          },
          "metadata": {
            "tags": []
          },
          "execution_count": 9
        }
      ]
    },
    {
      "cell_type": "markdown",
      "metadata": {
        "colab_type": "text",
        "id": "lzNt6PSgC6rQ"
      },
      "source": [
        "**c) Scaling bounding box coordinates [0,1] (for sigmoid activation of dense layers, later)**<br>\n",
        "The following cells are due to different image sizes. Each image size in the data set is random"
      ]
    },
    {
      "cell_type": "code",
      "metadata": {
        "cellView": "both",
        "colab_type": "code",
        "id": "g1FTb0Qa9Ioz",
        "colab": {}
      },
      "source": [
        "# TRAINING SET\n",
        "train['x1p'] = [(train.x1[i]/Image.open(train.filename[i]).size[0]) for i in range(len(train.x1))]\n",
        "train['y1p'] = [(train.y1[i]/Image.open(train.filename[i]).size[1]) for i in range(len(train.y1))]\n",
        "train['x2p'] = [(train.x2[i]/Image.open(train.filename[i]).size[0]) for i in range(len(train.x2))]\n",
        "train['y2p'] = [(train.y2[i]/Image.open(train.filename[i]).size[1]) for i in range(len(train.y2))]\n",
        "\n",
        "# SANITY CHECK\n",
        "# train.sample(5)"
      ],
      "execution_count": 0,
      "outputs": []
    },
    {
      "cell_type": "code",
      "metadata": {
        "colab_type": "code",
        "id": "bvdw1x6CGk5K",
        "colab": {}
      },
      "source": [
        "# VALIDATION SET\n",
        "validation['x1p'] = [(validation.x1[i]/Image.open(validation.filename[i]).size[0]) for i in range(len(validation.x1))]\n",
        "validation['y1p'] = [(validation.y1[i]/Image.open(validation.filename[i]).size[1]) for i in range(len(validation.y1))]\n",
        "validation['x2p'] = [(validation.x2[i]/Image.open(validation.filename[i]).size[0]) for i in range(len(validation.x2))]\n",
        "validation['y2p'] = [(validation.y2[i]/Image.open(validation.filename[i]).size[1]) for i in range(len(validation.y2))]\n",
        "\n",
        "# SANITY CHECK\n",
        "# validation.sample(5)"
      ],
      "execution_count": 0,
      "outputs": []
    },
    {
      "cell_type": "code",
      "metadata": {
        "colab_type": "code",
        "id": "66VwzyKlJIkj",
        "colab": {}
      },
      "source": [
        "# TEST SET\n",
        "test['x1p'] = [(test.x1[i]/Image.open(test.filename[i]).size[0]) for i in range(len(test.x1))]\n",
        "test['y1p'] = [(test.y1[i]/Image.open(test.filename[i]).size[1]) for i in range(len(test.y1))]\n",
        "test['x2p'] = [(test.x2[i]/Image.open(test.filename[i]).size[0]) for i in range(len(test.x2))]\n",
        "test['y2p'] = [(test.y2[i]/Image.open(test.filename[i]).size[1]) for i in range(len(test.y2))]\n",
        "\n",
        "# SANITY CHECK\n",
        "# test.sample(5)"
      ],
      "execution_count": 0,
      "outputs": []
    },
    {
      "cell_type": "code",
      "metadata": {
        "id": "jUCp9sBNDVX-",
        "colab_type": "code",
        "colab": {}
      },
      "source": [
        "# Saving updated .csv(s) as separate files\n",
        "train.to_csv('./cimalab/dataframe/train_scaled.csv')\n",
        "validation.to_csv('./cimalab/dataframe/validation_scaled.csv')\n",
        "test.to_csv('./cimalab/dataframe/test_scaled.csv')"
      ],
      "execution_count": 0,
      "outputs": []
    },
    {
      "cell_type": "markdown",
      "metadata": {
        "colab_type": "text",
        "id": "wEFNYTlbE4gg"
      },
      "source": [
        "- - -"
      ]
    },
    {
      "cell_type": "markdown",
      "metadata": {
        "colab_type": "text",
        "id": "GQqmzNHyE4gl"
      },
      "source": [
        "<p><a name=\"pre\"></a></p>\n",
        "### 2. KERAS PREPROCESSING:\n",
        "<a href=\"#home\">BACK TO THE TOP</a>"
      ]
    },
    {
      "cell_type": "markdown",
      "metadata": {
        "colab_type": "text",
        "id": "NBq-uIdaE4gq"
      },
      "source": [
        "**a) Initializing**"
      ]
    },
    {
      "cell_type": "code",
      "metadata": {
        "colab_type": "code",
        "id": "_66FsC4cE4gx",
        "outputId": "160f35e2-a4f9-465a-d89d-208b79804397",
        "colab": {
          "base_uri": "https://localhost:8080/",
          "height": 35
        }
      },
      "source": [
        "from keras_preprocessing.image import ImageDataGenerator\n",
        "from keras.models              import Sequential, load_model\n",
        "from keras.layers              import Dropout, Flatten, Dense#, Conv2D, MaxPooling2D\n",
        "from keras                     import optimizers\n",
        "from keras.callbacks           import ModelCheckpoint, TensorBoard\n",
        "from keras_preprocessing.image import load_img, img_to_array\n",
        "from keras.applications        import xception"
      ],
      "execution_count": 0,
      "outputs": [
        {
          "output_type": "stream",
          "text": [
            "Using TensorFlow backend.\n"
          ],
          "name": "stderr"
        }
      ]
    },
    {
      "cell_type": "code",
      "metadata": {
        "id": "MFeBa-PyqQ0l",
        "colab_type": "code",
        "colab": {}
      },
      "source": [
        "# Modifying tensor flow setting to manage GPU resources better. \n",
        "\n",
        "config = tf.ConfigProto()\n",
        "config.gpu_options.allow_growth = True\n",
        "session = tf.Session(config=config)\n"
      ],
      "execution_count": 0,
      "outputs": []
    },
    {
      "cell_type": "markdown",
      "metadata": {
        "colab_type": "text",
        "id": "EmEtfnXME4g4"
      },
      "source": [
        "**b) Setting Parameters**"
      ]
    },
    {
      "cell_type": "code",
      "metadata": {
        "colab_type": "code",
        "id": "BVNyiTvhE4g8",
        "colab": {}
      },
      "source": [
        "image_width  = 299\n",
        "image_height = 299\n",
        "image_size   = (image_width, image_height)\n",
        "batch_size   = 20"
      ],
      "execution_count": 0,
      "outputs": []
    },
    {
      "cell_type": "markdown",
      "metadata": {
        "colab_type": "text",
        "id": "sxo6mO4DE4hC"
      },
      "source": [
        "**c) Creating the Train and Validation Data Generators **"
      ]
    },
    {
      "cell_type": "code",
      "metadata": {
        "colab_type": "code",
        "id": "kganFRfvE4hE",
        "outputId": "969ef235-9628-4059-f112-df1e989a7269",
        "colab": {
          "base_uri": "https://localhost:8080/",
          "height": 53
        }
      },
      "source": [
        "# from keras_preprocessing.image import ImageDataGenerator\n",
        "\n",
        "train_datagen        = ImageDataGenerator(\n",
        "    rescale          = 1.0/255,\n",
        "#     rotation_range   = 20,\n",
        "#     horizontal_flip  = True,\n",
        "    fill_mode        = 'nearest')\n",
        "\n",
        "train_generator      = train_datagen.flow_from_dataframe(\n",
        "    dataframe        = train,\n",
        "    x_col            = 'filename',\n",
        "    y_col            = ['x1p','y1p','x2p','y2p'],\n",
        "    target_size      = image_size,  \n",
        "    batch_size       = batch_size,\n",
        "    color_mode       = 'rgb',\n",
        "    class_mode       = 'other')\n",
        "\n",
        "#-----------------------------------------------------------------------------------------------------------------#\n",
        "\n",
        "validation_datagen   = ImageDataGenerator(rescale=1.0/255)\n",
        "\n",
        "validation_generator = validation_datagen.flow_from_dataframe(\n",
        "    dataframe        = validation,\n",
        "    x_col            = 'filename',  \n",
        "    y_col            = ['x1p','y1p','x2p','y2p'],\n",
        "    target_size      = image_size,  \n",
        "    batch_size       = batch_size,\n",
        "    color_mode       = 'rgb',\n",
        "    class_mode       = 'other')"
      ],
      "execution_count": 0,
      "outputs": [
        {
          "output_type": "stream",
          "text": [
            "Found 1940 images.\n",
            "Found 647 images.\n"
          ],
          "name": "stdout"
        }
      ]
    },
    {
      "cell_type": "markdown",
      "metadata": {
        "colab_type": "text",
        "id": "MQMroX1qE4hR"
      },
      "source": [
        "- - -"
      ]
    },
    {
      "cell_type": "markdown",
      "metadata": {
        "colab_type": "text",
        "id": "aG1rZ7HFE4hT"
      },
      "source": [
        "<p><a name=\"algo\"></a></p>\n",
        "### 3.  SETTING UP ARCHITECTURE : IMPORTING XCEPTION<br><https://keras.io/applications/#xception>\n",
        "<a href=\"#home\">BACK TO THE TOP</a>"
      ]
    },
    {
      "cell_type": "markdown",
      "metadata": {
        "colab_type": "text",
        "id": "tHqsU_QZE4hW"
      },
      "source": [
        "**a) Importing Model**"
      ]
    },
    {
      "cell_type": "code",
      "metadata": {
        "colab_type": "code",
        "id": "pPjiYIiPE4ha",
        "outputId": "37181677-da85-4396-ad1d-b958ce2731b7",
        "colab": {
          "base_uri": "https://localhost:8080/",
          "height": 128
        }
      },
      "source": [
        "# from keras.applications import xception\n",
        "\n",
        "conv_base = xception.Xception(\n",
        "                     weights      = 'imagenet',\n",
        "                     include_top  = False,\n",
        "                     input_shape  = (299, 299, 3))\n",
        "\n",
        "conv_base.trainable = True  # Check with 'True'..."
      ],
      "execution_count": 0,
      "outputs": [
        {
          "output_type": "stream",
          "text": [
            "WARNING:tensorflow:From /usr/local/lib/python3.6/dist-packages/tensorflow/python/framework/op_def_library.py:263: colocate_with (from tensorflow.python.framework.ops) is deprecated and will be removed in a future version.\n",
            "Instructions for updating:\n",
            "Colocations handled automatically by placer.\n",
            "Downloading data from https://github.com/fchollet/deep-learning-models/releases/download/v0.4/xception_weights_tf_dim_ordering_tf_kernels_notop.h5\n",
            "83689472/83683744 [==============================] - 6s 0us/step\n"
          ],
          "name": "stdout"
        }
      ]
    },
    {
      "cell_type": "markdown",
      "metadata": {
        "colab_type": "text",
        "id": "tib2j_MfE4hi"
      },
      "source": [
        "**b) Building Model Architecture (using pre-trained weights)**"
      ]
    },
    {
      "cell_type": "code",
      "metadata": {
        "colab_type": "code",
        "id": "UULXjGp1E4hl",
        "outputId": "93e645e2-dc53-4caa-df32-8538eff673d5",
        "colab": {
          "base_uri": "https://localhost:8080/",
          "height": 92
        }
      },
      "source": [
        "# from keras.models  import Sequential\n",
        "# from keras.layers  import Dropout\n",
        "\n",
        "xception_model = Sequential()\n",
        "xception_model.add(conv_base)\n",
        "xception_model.add(Flatten())\n",
        "xception_model.add(Dropout(0.5))                       \n",
        "xception_model.add(Dense(64,  activation = 'linear')) # attempt with sigmoid activation\n",
        "xception_model.add(Dense(4,   activation = 'linear')) # attempt with sigmoid activation"
      ],
      "execution_count": 0,
      "outputs": [
        {
          "output_type": "stream",
          "text": [
            "WARNING:tensorflow:From /usr/local/lib/python3.6/dist-packages/keras/backend/tensorflow_backend.py:3445: calling dropout (from tensorflow.python.ops.nn_ops) with keep_prob is deprecated and will be removed in a future version.\n",
            "Instructions for updating:\n",
            "Please use `rate` instead of `keep_prob`. Rate should be set to `rate = 1 - keep_prob`.\n"
          ],
          "name": "stdout"
        }
      ]
    },
    {
      "cell_type": "code",
      "metadata": {
        "id": "5_GHtX2FXqq8",
        "colab_type": "code",
        "outputId": "08ad0d5e-3dda-4b84-b700-6fb0a564ef93",
        "colab": {
          "base_uri": "https://localhost:8080/",
          "height": 326
        }
      },
      "source": [
        "xception_model.summary()"
      ],
      "execution_count": 0,
      "outputs": [
        {
          "output_type": "stream",
          "text": [
            "_________________________________________________________________\n",
            "Layer (type)                 Output Shape              Param #   \n",
            "=================================================================\n",
            "xception (Model)             (None, 10, 10, 2048)      20861480  \n",
            "_________________________________________________________________\n",
            "flatten_1 (Flatten)          (None, 204800)            0         \n",
            "_________________________________________________________________\n",
            "dropout_1 (Dropout)          (None, 204800)            0         \n",
            "_________________________________________________________________\n",
            "dense_1 (Dense)              (None, 64)                13107264  \n",
            "_________________________________________________________________\n",
            "dense_2 (Dense)              (None, 4)                 260       \n",
            "=================================================================\n",
            "Total params: 33,969,004\n",
            "Trainable params: 33,914,476\n",
            "Non-trainable params: 54,528\n",
            "_________________________________________________________________\n"
          ],
          "name": "stdout"
        }
      ]
    },
    {
      "cell_type": "markdown",
      "metadata": {
        "colab_type": "text",
        "id": "ObqZvlPBE4h0"
      },
      "source": [
        "**c) Compiling Model Parameters**"
      ]
    },
    {
      "cell_type": "code",
      "metadata": {
        "colab_type": "code",
        "id": "e4WZm-l2E4h3",
        "colab": {}
      },
      "source": [
        "# import tf_iou as tfiou\n",
        "\n",
        "# Making a tf.py_function so that it can be used as a metric in the keras model compiler\n",
        "\n",
        "def IoU(y_true, y_pred):\n",
        "    iou = tf.py_function(tfiou.tf_iou, [y_true, y_pred], tf.float32)\n",
        "    return iou"
      ],
      "execution_count": 0,
      "outputs": []
    },
    {
      "cell_type": "code",
      "metadata": {
        "colab_type": "code",
        "id": "jvOdXm0PE4iC",
        "colab": {}
      },
      "source": [
        "# from keras import optimizers\n",
        "\n",
        "xception_model.compile(loss      = 'mean_squared_error',\n",
        "                       optimizer = optimizers.Adam(),\n",
        "                       metrics   = [IoU])"
      ],
      "execution_count": 0,
      "outputs": []
    },
    {
      "cell_type": "markdown",
      "metadata": {
        "colab_type": "text",
        "id": "Hgocda8zE4iM"
      },
      "source": [
        "<p><a name=\"train\"></a></p>\n",
        "### 4. TRAINING AND FITTING MODEL (TRAINING and VALIDATION SETS)\n",
        "<a href=\"#home\">BACK TO THE TOP</a>"
      ]
    },
    {
      "cell_type": "markdown",
      "metadata": {
        "colab_type": "text",
        "id": "LdARfCOm2-pr"
      },
      "source": [
        "**a) Running Epochs**"
      ]
    },
    {
      "cell_type": "code",
      "metadata": {
        "colab_type": "code",
        "id": "4V6ajmslE4iP",
        "outputId": "def2c24b-dfb5-46d7-99b2-e2d215f6cb9b",
        "colab": {
          "base_uri": "https://localhost:8080/",
          "height": 1002
        }
      },
      "source": [
        "# from keras.callbacks import ModelCheckpoint, TensorBoard\n",
        "\n",
        "best_model = ModelCheckpoint(\"./xception/trial_xception.h5\", monitor='val_loss', verbose=0, save_best_only=True)\n",
        "\n",
        "\n",
        "epoch       = 25\n",
        "train_steps = (train.shape[0]//batch_size) +1\n",
        "valid_steps = (validation.shape[0]//batch_size) +1\n",
        "\n",
        "history     = xception_model.fit_generator(\n",
        "        train_generator,\n",
        "        validation_data  = validation_generator,    \n",
        "        steps_per_epoch  = train_steps,\n",
        "        validation_steps = valid_steps,\n",
        "        epochs           = epoch,\n",
        "        callbacks        =[best_model, TensorBoard(log_dir='./xception/logs')])"
      ],
      "execution_count": 0,
      "outputs": [
        {
          "output_type": "stream",
          "text": [
            "WARNING:tensorflow:From /usr/local/lib/python3.6/dist-packages/tensorflow/python/ops/math_ops.py:3066: to_int32 (from tensorflow.python.ops.math_ops) is deprecated and will be removed in a future version.\n",
            "Instructions for updating:\n",
            "Use tf.cast instead.\n",
            "Epoch 1/25\n",
            "98/98 [==============================] - 115s 1s/step - loss: 51.4651 - IoU: 0.2479 - val_loss: 0.1787 - val_IoU: 0.2972\n",
            "Epoch 2/25\n",
            "98/98 [==============================] - 102s 1s/step - loss: 0.1369 - IoU: 0.3512 - val_loss: 0.1102 - val_IoU: 0.4102\n",
            "Epoch 3/25\n",
            "98/98 [==============================] - 103s 1s/step - loss: 0.0833 - IoU: 0.4689 - val_loss: 0.0667 - val_IoU: 0.5217\n",
            "Epoch 4/25\n",
            "98/98 [==============================] - 102s 1s/step - loss: 0.0520 - IoU: 0.5729 - val_loss: 0.0418 - val_IoU: 0.6151\n",
            "Epoch 5/25\n",
            "98/98 [==============================] - 104s 1s/step - loss: 0.0342 - IoU: 0.6478 - val_loss: 0.0277 - val_IoU: 0.6810\n",
            "Epoch 6/25\n",
            "98/98 [==============================] - 103s 1s/step - loss: 0.0240 - IoU: 0.6980 - val_loss: 0.0195 - val_IoU: 0.7261\n",
            "Epoch 7/25\n",
            "98/98 [==============================] - 102s 1s/step - loss: 0.0179 - IoU: 0.7350 - val_loss: 0.0145 - val_IoU: 0.7589\n",
            "Epoch 8/25\n",
            "98/98 [==============================] - 103s 1s/step - loss: 0.0140 - IoU: 0.7626 - val_loss: 0.0117 - val_IoU: 0.7802\n",
            "Epoch 9/25\n",
            "98/98 [==============================] - 102s 1s/step - loss: 0.0116 - IoU: 0.7814 - val_loss: 0.0101 - val_IoU: 0.7931\n",
            "Epoch 10/25\n",
            "98/98 [==============================] - 102s 1s/step - loss: 0.0105 - IoU: 0.7901 - val_loss: 0.0092 - val_IoU: 0.8004\n",
            "Epoch 11/25\n",
            "98/98 [==============================] - 103s 1s/step - loss: 0.0098 - IoU: 0.7945 - val_loss: 0.0088 - val_IoU: 0.8040\n",
            "Epoch 12/25\n",
            "98/98 [==============================] - 102s 1s/step - loss: 0.0093 - IoU: 0.7992 - val_loss: 0.0087 - val_IoU: 0.8055\n",
            "Epoch 13/25\n",
            "98/98 [==============================] - 102s 1s/step - loss: 0.0092 - IoU: 0.7998 - val_loss: 0.0086 - val_IoU: 0.8064\n",
            "Epoch 14/25\n",
            "98/98 [==============================] - 103s 1s/step - loss: 0.0093 - IoU: 0.7988 - val_loss: 0.0085 - val_IoU: 0.8069\n",
            "Epoch 15/25\n",
            "98/98 [==============================] - 102s 1s/step - loss: 0.0091 - IoU: 0.7989 - val_loss: 0.0087 - val_IoU: 0.8065\n",
            "Epoch 16/25\n",
            "98/98 [==============================] - 102s 1s/step - loss: 0.0091 - IoU: 0.7995 - val_loss: 0.0086 - val_IoU: 0.8067\n",
            "Epoch 17/25\n",
            "98/98 [==============================] - 103s 1s/step - loss: 0.0092 - IoU: 0.7991 - val_loss: 0.0087 - val_IoU: 0.8062\n",
            "Epoch 18/25\n",
            "98/98 [==============================] - 102s 1s/step - loss: 0.0092 - IoU: 0.7985 - val_loss: 0.0086 - val_IoU: 0.8071\n",
            "Epoch 19/25\n",
            "98/98 [==============================] - 102s 1s/step - loss: 0.0091 - IoU: 0.7989 - val_loss: 0.0087 - val_IoU: 0.8061\n",
            "Epoch 20/25\n",
            "98/98 [==============================] - 103s 1s/step - loss: 0.0092 - IoU: 0.7993 - val_loss: 0.0086 - val_IoU: 0.8070\n",
            "Epoch 21/25\n",
            "98/98 [==============================] - 102s 1s/step - loss: 0.0093 - IoU: 0.7976 - val_loss: 0.0086 - val_IoU: 0.8067\n",
            "Epoch 22/25\n",
            "98/98 [==============================] - 102s 1s/step - loss: 0.0090 - IoU: 0.8004 - val_loss: 0.0085 - val_IoU: 0.8070\n",
            "Epoch 23/25\n",
            "98/98 [==============================] - 103s 1s/step - loss: 0.0092 - IoU: 0.7984 - val_loss: 0.0085 - val_IoU: 0.8071\n",
            "Epoch 24/25\n",
            "98/98 [==============================] - 102s 1s/step - loss: 0.0091 - IoU: 0.7986 - val_loss: 0.0087 - val_IoU: 0.8064\n",
            "Epoch 25/25\n",
            "98/98 [==============================] - 102s 1s/step - loss: 0.0092 - IoU: 0.7986 - val_loss: 0.0087 - val_IoU: 0.8062\n"
          ],
          "name": "stdout"
        }
      ]
    },
    {
      "cell_type": "markdown",
      "metadata": {
        "colab_type": "text",
        "id": "3OJ11QRkE4ie"
      },
      "source": [
        "**b) Loss and Accuracy (IoU Values) for Training and Validation Sets over Epochs**"
      ]
    },
    {
      "cell_type": "code",
      "metadata": {
        "colab_type": "code",
        "id": "N9ESA1PwE4ih",
        "outputId": "89549ca1-fda9-472b-f734-ea8fcbc836b8",
        "colab": {
          "base_uri": "https://localhost:8080/",
          "height": 545
        }
      },
      "source": [
        "acc      = history.history['IoU']\n",
        "val_acc  = history.history['val_IoU']\n",
        "loss     = history.history['loss']\n",
        "val_loss = history.history['val_loss']\n",
        "\n",
        "epochs   = range(len(acc))\n",
        "\n",
        "plt.plot  (epochs, acc, 'bo',    label = 'Training')\n",
        "plt.plot  (epochs, val_acc, 'b', label = 'Validation')\n",
        "plt.title ('Training and Validation IoU Scores (per epoch)')\n",
        "plt.legend()\n",
        "\n",
        "plt.figure()\n",
        "\n",
        "plt.plot  (epochs, loss, 'bo', label='Training')\n",
        "plt.plot  (epochs, val_loss, 'b', label='Validation loss')\n",
        "plt.title ('Training and Validation MSE loss (per epoch)')\n",
        "plt.legend()\n",
        "\n",
        "plt.show  ()"
      ],
      "execution_count": 0,
      "outputs": [
        {
          "output_type": "display_data",
          "data": {
            "image/png": "[encoded data removed]",
            "text/plain": [
              "<Figure size 432x288 with 1 Axes>"
            ]
          },
          "metadata": {
            "tags": []
          }
        },
        {
          "output_type": "display_data",
          "data": {
            "image/png": "[encoded data removed]",
            "text/plain": [
              "<Figure size 432x288 with 1 Axes>"
            ]
          },
          "metadata": {
            "tags": []
          }
        }
      ]
    },
    {
      "cell_type": "markdown",
      "metadata": {
        "colab_type": "text",
        "id": "GsC4sUgeE4ir"
      },
      "source": [
        "<p><a name=\"test\"></a></p>\n",
        "### 5. EVALUATING (TRAINED) MODEL PERFORMANCE ON TEST SET\n",
        "<a href=\"#home\">BACK TO THE TOP</a>"
      ]
    },
    {
      "cell_type": "markdown",
      "metadata": {
        "colab_type": "text",
        "id": "2x0C0BbO3Zyd"
      },
      "source": [
        "**a) Setting up Test Set Generator and Running Model for Predicted Values**"
      ]
    },
    {
      "cell_type": "code",
      "metadata": {
        "colab_type": "code",
        "id": "Ff9OctZ3E4iv",
        "outputId": "28a1dd47-48a0-496e-9214-9fc5df764c54",
        "colab": {
          "base_uri": "https://localhost:8080/",
          "height": 35
        }
      },
      "source": [
        "# Creating a keras generator object for the test set\n",
        "\n",
        "test_datagen    = ImageDataGenerator(rescale=1.0/255) # we only need to scale the input for validation set\n",
        "\n",
        "test_generator  = test_datagen.flow_from_dataframe(\n",
        "    dataframe   = test,\n",
        "    x_col       = 'filename',  \n",
        "    y_col       = ['x1p','y1p','x2p','y2p'],\n",
        "    target_size = image_size,  \n",
        "    batch_size  = batch_size,\n",
        "    color_mode  = 'rgb',\n",
        "    class_mode  = 'other')"
      ],
      "execution_count": 0,
      "outputs": [
        {
          "output_type": "stream",
          "text": [
            "Found 647 images.\n"
          ],
          "name": "stdout"
        }
      ]
    },
    {
      "cell_type": "code",
      "metadata": {
        "colab_type": "code",
        "id": "5RyjcFMwE4i2",
        "outputId": "45beb328-24ed-45b4-c304-498d76b351c8",
        "colab": {
          "base_uri": "https://localhost:8080/",
          "height": 35
        }
      },
      "source": [
        "# Predicting bounding box coordinates on test set\n",
        "\n",
        "test_steps = (len(test)//batch_size) +1\n",
        "\n",
        "Test_results = xception_model.predict_generator(\n",
        "    test_generator, \n",
        "    steps               = test_steps, \n",
        "#   callbacks           = None, \n",
        "    max_queue_size      = batch_size, \n",
        "    workers             = 0, \n",
        "    use_multiprocessing = False, \n",
        "    verbose             = 1)"
      ],
      "execution_count": 0,
      "outputs": [
        {
          "output_type": "stream",
          "text": [
            "33/33 [==============================] - 10s 303ms/step\n"
          ],
          "name": "stdout"
        }
      ]
    },
    {
      "cell_type": "markdown",
      "metadata": {
        "colab_type": "text",
        "id": "pkMCH7bA3nCs"
      },
      "source": [
        "**b) Formatting Predicted Results for Output/ Evaluation**"
      ]
    },
    {
      "cell_type": "code",
      "metadata": {
        "colab_type": "code",
        "id": "5c5vKSIuE4i8",
        "colab": {}
      },
      "source": [
        "# Creating data frames to evaluate model performance\n",
        "\n",
        "Predicted   = pd.DataFrame(data = Test_results, columns = ['x1','y1','x2','y2'])\n",
        "GroundTruth = test[['x1','y1','x2','y2']]"
      ],
      "execution_count": 0,
      "outputs": []
    },
    {
      "cell_type": "code",
      "metadata": {
        "id": "vFSR6WL2DVaa",
        "colab_type": "code",
        "colab": {}
      },
      "source": [
        "# Rescaling output values back to actual pixels for evaluation\n",
        "\n",
        "Predicted['x1'] = [(Predicted.x1[i]*Image.open(test.filename[i]).size[0]) for i in range(len(test.x1))]\n",
        "Predicted['y1'] = [(Predicted.y1[i]*Image.open(test.filename[i]).size[1]) for i in range(len(test.y1))]\n",
        "Predicted['x2'] = [(Predicted.x2[i]*Image.open(test.filename[i]).size[0]) for i in range(len(test.x2))]\n",
        "Predicted['y2'] = [(Predicted.y2[i]*Image.open(test.filename[i]).size[1]) for i in range(len(test.y2))]"
      ],
      "execution_count": 0,
      "outputs": []
    },
    {
      "cell_type": "markdown",
      "metadata": {
        "colab_type": "text",
        "id": "2b3vm2p958eL"
      },
      "source": [
        "**c) Creating IoU values for Each Predicted Observation**"
      ]
    },
    {
      "cell_type": "code",
      "metadata": {
        "colab_type": "code",
        "id": "hVrtaUOrE4jJ",
        "colab": {}
      },
      "source": [
        "# import calculate_iou as calc_iou\n",
        "\n",
        "# Collecting IoU scores per prediction\n",
        "\n",
        "scores = []\n",
        "\n",
        "for i in range(len(GroundTruth)):\n",
        "    score = calc_iou.calculate_iou(np.array(GroundTruth.iloc[i]), np.array(Predicted.iloc[i]))\n",
        "    scores.append(round(score,4))"
      ],
      "execution_count": 0,
      "outputs": []
    },
    {
      "cell_type": "code",
      "metadata": {
        "colab_type": "code",
        "id": "68iNP2D8E4jN",
        "outputId": "d3e2de8a-8590-4b01-b5f0-57adde5bf6c6",
        "colab": {
          "base_uri": "https://localhost:8080/",
          "height": 35
        }
      },
      "source": [
        "# Mean IoU Scores\n",
        "np.mean(scores)"
      ],
      "execution_count": 0,
      "outputs": [
        {
          "output_type": "execute_result",
          "data": {
            "text/plain": [
              "0.42306137"
            ]
          },
          "metadata": {
            "tags": []
          },
          "execution_count": 30
        }
      ]
    },
    {
      "cell_type": "code",
      "metadata": {
        "colab_type": "code",
        "id": "HLwS-VQ3qgYc",
        "outputId": "dfb63bf9-84e1-4b31-fdd8-755f80b41f91",
        "colab": {
          "base_uri": "https://localhost:8080/",
          "height": 53
        }
      },
      "source": [
        "# Checking for min and max scores\n",
        "sb = pd.Series(scores)\n",
        "sb[sb==np.max(sb)]"
      ],
      "execution_count": 0,
      "outputs": [
        {
          "output_type": "execute_result",
          "data": {
            "text/plain": [
              "197    0.7844\n",
              "dtype: float64"
            ]
          },
          "metadata": {
            "tags": []
          },
          "execution_count": 128
        }
      ]
    },
    {
      "cell_type": "code",
      "metadata": {
        "colab_type": "code",
        "id": "K6HtwLI_E4jV",
        "outputId": "767b0553-5e50-441f-b8aa-2da09e498d22",
        "colab": {
          "base_uri": "https://localhost:8080/",
          "height": 35
        }
      },
      "source": [
        "# Checking for negative values\n",
        "sc = pd.Series(scores)\n",
        "sc = sc[sc<0]\n",
        "sc"
      ],
      "execution_count": 0,
      "outputs": [
        {
          "output_type": "execute_result",
          "data": {
            "text/plain": [
              "Series([], dtype: float64)"
            ]
          },
          "metadata": {
            "tags": []
          },
          "execution_count": 32
        }
      ]
    },
    {
      "cell_type": "code",
      "metadata": {
        "colab_type": "code",
        "id": "-vCSGxYy39Jc",
        "outputId": "277b2ade-309e-4877-b1ba-956615dcb6fc",
        "colab": {
          "base_uri": "https://localhost:8080/",
          "height": 73
        }
      },
      "source": [
        "#Printing scores to csv\n",
        "pd.Series(scores).to_csv('./xception/iou_scores_trial.csv')"
      ],
      "execution_count": 0,
      "outputs": [
        {
          "output_type": "stream",
          "text": [
            "/usr/local/lib/python3.6/dist-packages/ipykernel_launcher.py:1: FutureWarning: The signature of `Series.to_csv` was aligned to that of `DataFrame.to_csv`, and argument 'header' will change its default value from False to True: please pass an explicit value to suppress this warning.\n",
            "  \"\"\"Entry point for launching an IPython kernel.\n"
          ],
          "name": "stderr"
        }
      ]
    },
    {
      "cell_type": "markdown",
      "metadata": {
        "colab_type": "text",
        "id": "57PduxmkE4jl"
      },
      "source": [
        "<p><a name=\"output\"></a></p>\n",
        "### 6. FINAL RESULTS OF PREDICTION: \n",
        "<a href=\"#home\">BACK TO THE TOP</a>"
      ]
    },
    {
      "cell_type": "markdown",
      "metadata": {
        "id": "tlRJGh3oDVbF",
        "colab_type": "text"
      },
      "source": [
        "*CHECKING INDIVIDUAL IMAGES FOR GROUND TRUTH AND PREDICTED BOUNDING BOXES*"
      ]
    },
    {
      "cell_type": "code",
      "metadata": {
        "colab_type": "code",
        "id": "RrCT3BN7E4jl",
        "colab": {}
      },
      "source": [
        "# from PIL import Image\n",
        "# import matplotlib.pyplot as plt\n",
        "# import matplotlib.image  as mpimg\n",
        "# import matplotlib.patches as patches"
      ],
      "execution_count": 0,
      "outputs": []
    },
    {
      "cell_type": "code",
      "metadata": {
        "colab_type": "code",
        "id": "MnkgEsu6E4jr",
        "outputId": "ef23f519-d702-403f-bc98-73ee922e4584",
        "colab": {
          "base_uri": "https://localhost:8080/",
          "height": 267
        }
      },
      "source": [
        "x = 197\n",
        "\n",
        "g = GroundTruth.iloc[x]\n",
        "p = Predicted.iloc[x]\n",
        "\n",
        "%matplotlib inline\n",
        "\n",
        "img = np.array(Image.open(test.filename[x]), dtype = np.uint8)\n",
        "fig,ax = plt.subplots(1)\n",
        "ax.imshow(img)\n",
        "\n",
        "GT     = patches.Rectangle((g[0],g[1]), g[2]-g[0], g[3]-g[1], linewidth=2,edgecolor='r',fill=False)\n",
        "PB     = patches.Rectangle((p[0],p[1]), p[2]-p[0], p[3]-p[1], linewidth=2,edgecolor='b',fill=False)\n",
        "\n",
        "ax.add_patch(GT)\n",
        "ax.add_patch(PB)\n",
        "plt.text(g[0]-84,g[1], 'Truth',  color='r', fontweight='bold', backgroundcolor='w')\n",
        "plt.text(p[0]-80,p[1]+30, 'Predict',color='b', fontweight='bold', backgroundcolor='w')\n",
        "\n",
        "plt.show()\n",
        "\n",
        "# 197, 420, 332, 386 #dice function"
      ],
      "execution_count": 0,
      "outputs": [
        {
          "output_type": "display_data",
          "data": {
            "image/png": "[encoded data removed]",
            "text/plain": [
              "<Figure size 432x288 with 1 Axes>"
            ]
          },
          "metadata": {
            "tags": []
          }
        }
      ]
    },
    {
      "cell_type": "markdown",
      "metadata": {
        "colab_type": "text",
        "id": "ykdOcJHmE4jw"
      },
      "source": [
        "- - -"
      ]
    },
    {
      "cell_type": "markdown",
      "metadata": {
        "id": "08HPdauODVbO",
        "colab_type": "text"
      },
      "source": [
        "THANK YOU FOR VIEWING MY CODE!"
      ]
    },
    {
      "cell_type": "markdown",
      "metadata": {
        "id": "RloxN-lo14sz",
        "colab_type": "text"
      },
      "source": [
        "- - -"
      ]
    },
    {
      "cell_type": "markdown",
      "metadata": {
        "id": "hCIIx46H1zAe",
        "colab_type": "text"
      },
      "source": [
        "[IGNORE]"
      ]
    },
    {
      "cell_type": "code",
      "metadata": {
        "id": "WODE9E3Zw_t3",
        "colab_type": "code",
        "colab": {}
      },
      "source": [
        "# USE ONLY IF MODEL IS NEEDED TO BE LOADED AGAIN\n",
        "\n",
        "# from keras.models import load_model\n",
        "# model = load_model(\"./xception/trial_5_xception.h5\")\n",
        "\n",
        "# dependencies = {'metrics': [IoU]}\n",
        "# model = load_model(\"./xception/trial_5_xception.h5\", custom_objects=dependencies)"
      ],
      "execution_count": 0,
      "outputs": []
    }
  ]
}